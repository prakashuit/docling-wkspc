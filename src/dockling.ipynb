{
 "cells": [
  {
   "cell_type": "code",
   "execution_count": 8,
   "id": "eef5f339",
   "metadata": {},
   "outputs": [],
   "source": [
    "from pathlib import Path\n",
    "from docling.document_converter import DocumentConverter\n",
    "import json\n",
    "import pandas as pd"
   ]
  },
  {
   "cell_type": "code",
   "execution_count": 9,
   "id": "3ff1cbb6",
   "metadata": {},
   "outputs": [
    {
     "name": "stdout",
     "output_type": "stream",
     "text": [
      "<!-- image -->\n",
      "\n",
      "## From:\n",
      "\n",
      "DEMO - Sliced Invoices Suite 5A-1204 123 Somewhere Street Your City AZ 12345 admin@slicedinvoices.com\n",
      "\n",
      "## To:\n",
      "\n",
      "Test Business 123 Somewhere St Melbourne, VIC 3000 test@test.com\n",
      "\n",
      "|   Hrs/Qty | Service                                    | Rate/Price   | Adjust   | Sub Total   |\n",
      "|-----------|--------------------------------------------|--------------|----------|-------------|\n",
      "|         1 | Web Design This is a sample description... | $85.00       | 0.00%    | $85.00      |\n",
      "\n",
      "| Sub Total   | $85.00   |\n",
      "|-------------|----------|\n",
      "| Tax         | $8.50    |\n",
      "| Total       | $93.50   |\n",
      "\n",
      "ANZ Bank ACC # 1234 1234 BSB # 4321 432\n",
      "\n",
      "## Invoice\n",
      "\n",
      "Invoice Number\n",
      "\n",
      "INV-3337\n",
      "\n",
      "Order Number\n",
      "\n",
      "12345\n",
      "\n",
      "Invoice Date\n",
      "\n",
      "January 25, 2016\n",
      "\n",
      "Due Date\n",
      "\n",
      "January 31, 2016\n",
      "\n",
      "Total Due\n",
      "\n",
      "$93.50\n",
      "\n",
      "Rate/Price Sub Total Total Paid\n"
     ]
    }
   ],
   "source": [
    "converter = DocumentConverter()\n",
    "\n",
    "# Define output folder path\n",
    "output_dir = Path(\"C:/Prakash/source/docling-wkspc/output\")\n",
    "\n",
    "source = \"C:/Users/Administrator/Downloads/pdf-samples/wordpress-pdf-invoice-plugin-sample.pdf\"\n",
    "# source = \"C:/Users/Administrator/Downloads/pdf-samples/sample-invoice.pdf\"\n",
    "result = converter.convert(source)\n",
    "\n",
    "print(result.document.export_to_markdown())"
   ]
  },
  {
   "cell_type": "code",
   "execution_count": null,
   "id": "ca5a5f1d",
   "metadata": {},
   "outputs": [],
   "source": []
  }
 ],
 "metadata": {
  "kernelspec": {
   "display_name": "myenv",
   "language": "python",
   "name": "python3"
  },
  "language_info": {
   "codemirror_mode": {
    "name": "ipython",
    "version": 3
   },
   "file_extension": ".py",
   "mimetype": "text/x-python",
   "name": "python",
   "nbconvert_exporter": "python",
   "pygments_lexer": "ipython3",
   "version": "3.13.3"
  }
 },
 "nbformat": 4,
 "nbformat_minor": 5
}
